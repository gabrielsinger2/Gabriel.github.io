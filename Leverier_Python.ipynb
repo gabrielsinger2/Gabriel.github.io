{
  "nbformat": 4,
  "nbformat_minor": 0,
  "metadata": {
    "colab": {
      "provenance": [],
      "authorship_tag": "ABX9TyOAsC/omw9HAw4sA/9kWdEs"
    },
    "kernelspec": {
      "name": "python3",
      "display_name": "Python 3"
    },
    "language_info": {
      "name": "python"
    }
  },
  "cells": [
    {
      "cell_type": "code",
      "execution_count": 94,
      "metadata": {
        "colab": {
          "base_uri": "https://localhost:8080/",
          "height": 55
        },
        "id": "kpSyW6boNBYD",
        "outputId": "15c76aab-2b11-42ca-c539-53f9bcfb1cd6"
      },
      "outputs": [
        {
          "output_type": "stream",
          "name": "stdout",
          "text": [
            "[-1, -2.0]\n"
          ]
        },
        {
          "output_type": "execute_result",
          "data": {
            "text/plain": [
              "lambda**2 - lambda - 2"
            ],
            "text/latex": "$\\displaystyle \\lambda^{2} - \\lambda - 2$"
          },
          "metadata": {},
          "execution_count": 94
        }
      ],
      "source": [
        "from sympy.core.evalf import N\n",
        "from sympy import Matrix\n",
        "from sympy.abc import x, y\n",
        "import numpy as np\n",
        "\n",
        "\n",
        "\n",
        "#Calculation of (B+aI)A\n",
        "def Mult(a,A,B,n):\n",
        "  return np.matmul(B+np.dot(a,np.identity(n)),A) #renvoie (B+aI)A\n",
        "#The function Lever is defined by induction.\n",
        "#Lever returns a list L=[a_{n-1},a_{n-2},...,a_{0}] where chi_{A} the carachteristic polynome of A is X^{n}+a_{n-1}X^{n-1}+...+a_{0}.\n",
        "def Lever(A, n, j,L=None):\n",
        "  if L is None:\n",
        "    L=[]\n",
        "  if j <= n:\n",
        "    a,B = -np.trace(A), A.copy()\n",
        "    for i in range(2, j + 1):\n",
        "      B = Mult(a, A, B, n)\n",
        "      a = -np.trace(B) / i\n",
        "    L.append(a)\n",
        "    return Lever(A, n, j + 1,L)\n",
        "  else:\n",
        "    return L\n",
        "\n",
        "\n",
        "\n",
        "\n",
        "# Exemple of usage :\n",
        "A = np.array([[1, 1], [2, 0]])\n",
        "L=[]\n",
        "result = Char(A,2,1,L)\n",
        "print(result)\n",
        "M=Matrix([[1, 1], [2, 0]])\n",
        "M.charpoly().as_expr()"
      ]
    },
    {
      "cell_type": "code",
      "source": [],
      "metadata": {
        "id": "exWp6ZgDMDU1"
      },
      "execution_count": null,
      "outputs": []
    },
    {
      "cell_type": "code",
      "source": [
        "def char(M):\n",
        "   return M.charpoly().as_expr()\n"
      ],
      "metadata": {
        "id": "KA8261xUY3-C"
      },
      "execution_count": null,
      "outputs": []
    },
    {
      "cell_type": "code",
      "source": [
        "# Exemple of usage :\n",
        "A =  np.array([\n",
        "    [0, 0, 0, -3],\n",
        "    [1, 0, 0, 1],\n",
        "    [0, 1, 0, 2],\n",
        "    [0, 0, 1, 10]\n",
        "])\n",
        "L=[]\n",
        "result = Lever(A,4,1,L)\n",
        "print(result)\n"
      ],
      "metadata": {
        "colab": {
          "base_uri": "https://localhost:8080/"
        },
        "id": "UsY2bVUGidTU",
        "outputId": "eaaa4482-2a6c-4548-f677-0f0539498df5"
      },
      "execution_count": 124,
      "outputs": [
        {
          "output_type": "stream",
          "name": "stdout",
          "text": [
            "[-10, -2.0, -1.0, 3.0]\n"
          ]
        }
      ]
    },
    {
      "cell_type": "code",
      "source": [
        "def det_LV(A, n, j=1 ,L=None):\n",
        "  return (-1)**(n)*Lever(A,n,j=1,L=None)[n-1]"
      ],
      "metadata": {
        "id": "_hbpHNd2oIZM"
      },
      "execution_count": 127,
      "outputs": []
    },
    {
      "cell_type": "code",
      "source": [
        "det_LV(A,4,1)"
      ],
      "metadata": {
        "id": "1d8CfyU5nQ2u",
        "colab": {
          "base_uri": "https://localhost:8080/"
        },
        "outputId": "e4b0e651-d131-4ca8-cc77-af2559a633da"
      },
      "execution_count": 128,
      "outputs": [
        {
          "output_type": "execute_result",
          "data": {
            "text/plain": [
              "3.0"
            ]
          },
          "metadata": {},
          "execution_count": 128
        }
      ]
    },
    {
      "cell_type": "code",
      "source": [],
      "metadata": {
        "id": "3kPK7ZeEdpYQ"
      },
      "execution_count": null,
      "outputs": []
    }
  ]
}